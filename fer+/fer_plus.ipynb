{
 "cells": [
  {
   "cell_type": "code",
   "execution_count": 1,
   "metadata": {},
   "outputs": [],
   "source": [
    "from caricatore_immagini import ImageLoader"
   ]
  },
  {
   "cell_type": "code",
   "execution_count": 2,
   "metadata": {},
   "outputs": [],
   "source": [
    "train_dir = \"C:/Users/aless/Desktop/fer+/images/FER2013Train\"\n",
    "val_dir = \"C:/Users/aless/Desktop/fer+/images/FER2013Valid\"\n",
    "test_dir = \"C:/Users/aless/Desktop/fer+/images/FER2013Test\"\n",
    "\n",
    "train_csv = \"C:/Users/aless/Desktop/fer+/fer-csv/label_train.csv\"\n",
    "val_csv = \"C:/Users/aless/Desktop/fer+/fer-csv/label_valid.csv\"\n",
    "test_csv = \"C:/Users/aless/Desktop/fer+/fer-csv/label_test.csv\""
   ]
  },
  {
   "cell_type": "code",
   "execution_count": null,
   "metadata": {},
   "outputs": [],
   "source": [
    "train_set = ImageLoader(train_dir, train_csv)\n",
    "X_train , y_train = train_set.load_data()\n"
   ]
  },
  {
   "cell_type": "code",
   "execution_count": null,
   "metadata": {},
   "outputs": [],
   "source": [
    "test_set = ImageLoader(test_dir , test_csv)\n",
    "X_test , y_test = test_set.load_data()"
   ]
  },
  {
   "cell_type": "code",
   "execution_count": null,
   "metadata": {},
   "outputs": [],
   "source": [
    "test_set.random_image(5)"
   ]
  },
  {
   "cell_type": "code",
   "execution_count": null,
   "metadata": {},
   "outputs": [],
   "source": [
    "val_set = ImageLoader(val_dir , val_csv)\n",
    "X_val , y_val = val_set.load_data()"
   ]
  },
  {
   "cell_type": "code",
   "execution_count": null,
   "metadata": {},
   "outputs": [],
   "source": [
    "import pandas as pd\n",
    "\n",
    "df = pd.read_csv(\"fer-csv/label_train.csv\")\n",
    "\n",
    "df['happiness'].unique()"
   ]
  },
  {
   "cell_type": "code",
   "execution_count": 7,
   "metadata": {},
   "outputs": [],
   "source": [
    "import tensorflow as tf\n",
    "from tensorflow.keras.models import Sequential\n",
    "from tensorflow.keras.layers import Conv2D, MaxPooling2D, Flatten, Dense, Dropout "
   ]
  },
  {
   "cell_type": "code",
   "execution_count": null,
   "metadata": {},
   "outputs": [],
   "source": [
    "model = Sequential()\n",
    "\n",
    "model.add(Conv2D(32, (3, 3), activation='relu',input_shape=(48, 48, 1),padding='same'))\n",
    "\n",
    "model.add(Conv2D(64, (3, 3), activation='relu', padding='same')) \n",
    "model.add(MaxPooling2D((2, 2)))  \n",
    "\n",
    "model.add(Conv2D(128, (3, 3), activation='relu',padding='same')) \n",
    "#model.add(Conv2D(64, (3, 3), activation='relu',padding='same')) \n",
    "model.add(MaxPooling2D((2, 2)))  \n",
    "#model.add(Dropout(0.2))\n",
    "\n",
    "model.add(Conv2D(256, (3, 3), activation='relu',padding='same')) \n",
    "model.add(MaxPooling2D((2, 2))) \n",
    "model.add(Dropout(0.2))\n",
    "\n",
    "# Step 3: Flatten the output and add Dense layers (fully connected layers)\n",
    "model.add(Flatten())  # Flatten 3D output to 1D\n",
    "model.add(Dense(128, activation='relu'))\n",
    "model.add(Dropout(0.5))\n",
    "model.add(Dense(10, activation='softmax'))  # Output layer (10 classes, use softmax for classification)\n",
    "\n",
    "# Step 4: Compile the model\n",
    "model.compile(optimizer='adam',\n",
    "              loss='categorical_crossentropy',  # Suitable for integer labels\n",
    "              metrics=['accuracy'])\n",
    "\n",
    "# Step 5: Display model summary\n",
    "model.summary()\n"
   ]
  },
  {
   "cell_type": "code",
   "execution_count": null,
   "metadata": {},
   "outputs": [],
   "source": [
    "print(\"Shape di X_train:\", X_train.shape)  # Dovrebbe essere (num_samples, 48, 48, 1)\n",
    "print(\"Shape di y_train:\", y_train.shape)"
   ]
  },
  {
   "cell_type": "code",
   "execution_count": null,
   "metadata": {},
   "outputs": [],
   "source": [
    "history = model.fit(X_train, y_train,                  \n",
    "                    epochs=3,\n",
    "                    batch_size = 32,\n",
    "                    validation_data=(X_val , y_val)) "
   ]
  }
 ],
 "metadata": {
  "kernelspec": {
   "display_name": "Python 3",
   "language": "python",
   "name": "python3"
  },
  "language_info": {
   "codemirror_mode": {
    "name": "ipython",
    "version": 3
   },
   "file_extension": ".py",
   "mimetype": "text/x-python",
   "name": "python",
   "nbconvert_exporter": "python",
   "pygments_lexer": "ipython3",
   "version": "3.12.1"
  }
 },
 "nbformat": 4,
 "nbformat_minor": 2
}
